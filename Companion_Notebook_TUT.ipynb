{
 "cells": [
  {
   "cell_type": "code",
   "execution_count": 3,
   "id": "c15e0874",
   "metadata": {},
   "outputs": [
    {
     "data": {
      "text/plain": [
       "12"
      ]
     },
     "execution_count": 3,
     "metadata": {},
     "output_type": "execute_result"
    }
   ],
   "source": [
    "3*4"
   ]
  },
  {
   "cell_type": "markdown",
   "id": "95514409",
   "metadata": {},
   "source": [
    "1. This \n",
    "2. is\n",
    "3. an outline \n",
    "    1. with \n",
    "    2. sub sections "
   ]
  },
  {
   "cell_type": "code",
   "execution_count": 8,
   "id": "3ba9ea36",
   "metadata": {},
   "outputs": [
    {
     "name": "stdout",
     "output_type": "stream",
     "text": [
      "X                                                0\n",
      "Y                                                0\n",
      "Unique Squirrel ID                               0\n",
      "Hectare                                          0\n",
      "Shift                                            0\n",
      "Date                                             0\n",
      "Hectare Squirrel Number                          0\n",
      "Age                                            121\n",
      "Primary Fur Color                               55\n",
      "Highlight Fur Color                           1086\n",
      "Combination of Primary and Highlight Color       0\n",
      "Color notes                                   2841\n",
      "Location                                        64\n",
      "Above Ground Sighter Measurement               114\n",
      "Specific Location                             2547\n",
      "Running                                          0\n",
      "Chasing                                          0\n",
      "Climbing                                         0\n",
      "Eating                                           0\n",
      "Foraging                                         0\n",
      "Other Activities                              2586\n",
      "Kuks                                             0\n",
      "Quaas                                            0\n",
      "Moans                                            0\n",
      "Tail flags                                       0\n",
      "Tail twitches                                    0\n",
      "Approaches                                       0\n",
      "Indifferent                                      0\n",
      "Runs from                                        0\n",
      "Other Interactions                            2783\n",
      "Lat/Long                                         0\n",
      "dtype: int64\n"
     ]
    }
   ],
   "source": [
    "import pandas as pd\n",
    "\n",
    "# NYC Squirrel Census 2018 dataset\n",
    "url = \"https://data.cityofnewyork.us/api/views/vfnx-vebw/rows.csv?accessType=DOWNLOAD\"\n",
    "df_squirrels = pd.read_csv(url)\n",
    "df_squirrels.head()\n",
    "\n",
    "\n",
    "# Find missing data counts for each column\n",
    "missing_data_counts = df_squirrels.isnull().sum()\n",
    "\n",
    "# Display missing data counts\n",
    "print(missing_data_counts)\n"
   ]
  },
  {
   "cell_type": "markdown",
   "id": "1399c22d",
   "metadata": {},
   "source": [
    "Here is a summary of our interaction, which can be used as part of an assignment:\n",
    "\n",
    "#### https://chatgpt.com/share/6f5d41f6-1da2-4869-bc1e-02506c055afa \n",
    "---\n",
    "\n",
    "**Summary of Interaction**\n",
    "\n",
    "I initiated the conversation by requesting an amusing or interesting dataset that I could explore using pandas in a Jupyter notebook. After several attempts to find datasets on platforms like Kaggle and GitHub, I emphasized my need for datasets that can be easily downloaded and analyzed using pandas.\n",
    "\n",
    "Several datasets were recommended, including:\n",
    "1. **New York City Squirrel Census 2018**: A quirky dataset containing detailed information on squirrels observed in Central Park, which I later decided to use for analysis.\n",
    "2. **Bigfoot Sightings**: A dataset tracking reported sightings of Bigfoot across North America.\n",
    "3. **UFO Sightings**: A dataset of global UFO sightings with location and time information.\n",
    "\n",
    "Finally, I requested Python code to load the NYC Squirrel Census dataset and analyze missing data. The final code provided allowed me to:\n",
    "- Load the dataset into pandas using a working URL.\n",
    "- Identify and count missing values across all columns of the dataset using Python.\n",
    "\n",
    "The Python code provided for counting missing data is:\n",
    "\n",
    "```python\n",
    "import pandas as pd\n",
    "\n",
    "# Load the dataset\n",
    "url = \"https://data.cityofnewyork.us/api/views/vfnx-vebw/rows.csv?accessType=DOWNLOAD\"\n",
    "df_squirrels = pd.read_csv(url)\n",
    "\n",
    "# Find missing data counts for each column\n",
    "missing_data_counts = df_squirrels.isnull().sum()\n",
    "\n",
    "# Display missing data counts\n",
    "print(missing_data_counts)\n",
    "```\n",
    "\n",
    "This exercise demonstrated the process of working with real-world datasets, highlighting techniques for loading data from an online source and identifying missing data for further analysis.\n",
    "\n",
    "---\n",
    "\n",
    "This summary outlines the steps of the interaction and includes the final solution I implemented using pandas. Let me know if you need any additional details!"
   ]
  }
 ],
 "metadata": {
  "kernelspec": {
   "display_name": "Python 3 (ipykernel)",
   "language": "python",
   "name": "python3"
  },
  "language_info": {
   "codemirror_mode": {
    "name": "ipython",
    "version": 3
   },
   "file_extension": ".py",
   "mimetype": "text/x-python",
   "name": "python",
   "nbconvert_exporter": "python",
   "pygments_lexer": "ipython3",
   "version": "3.11.6"
  }
 },
 "nbformat": 4,
 "nbformat_minor": 5
}
